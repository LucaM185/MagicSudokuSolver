{
 "cells": [
  {
   "cell_type": "code",
   "execution_count": 2,
   "id": "d21ef50f",
   "metadata": {},
   "outputs": [
    {
     "ename": "KeyboardInterrupt",
     "evalue": "",
     "output_type": "error",
     "traceback": [
      "\u001b[1;31m---------------------------------------------------------------------------\u001b[0m",
      "\u001b[1;31mKeyboardInterrupt\u001b[0m                         Traceback (most recent call last)",
      "\u001b[1;32m~\\AppData\\Local\\Temp/ipykernel_5756/3344291130.py\u001b[0m in \u001b[0;36m<module>\u001b[1;34m\u001b[0m\n\u001b[0;32m      9\u001b[0m \u001b[1;32mfor\u001b[0m \u001b[0mfolder\u001b[0m \u001b[1;32min\u001b[0m \u001b[0mos\u001b[0m\u001b[1;33m.\u001b[0m\u001b[0mlistdir\u001b[0m\u001b[1;33m(\u001b[0m\u001b[1;34m\"Numbers/transformedNumbers\"\u001b[0m\u001b[1;33m)\u001b[0m\u001b[1;33m:\u001b[0m\u001b[1;33m\u001b[0m\u001b[1;33m\u001b[0m\u001b[0m\n\u001b[0;32m     10\u001b[0m     \u001b[1;32mfor\u001b[0m \u001b[0mfileName\u001b[0m \u001b[1;32min\u001b[0m \u001b[0mos\u001b[0m\u001b[1;33m.\u001b[0m\u001b[0mlistdir\u001b[0m\u001b[1;33m(\u001b[0m\u001b[1;34mf\"Numbers/transformedNumbers/{folder}\"\u001b[0m\u001b[1;33m)\u001b[0m\u001b[1;33m:\u001b[0m\u001b[1;33m\u001b[0m\u001b[1;33m\u001b[0m\u001b[0m\n\u001b[1;32m---> 11\u001b[1;33m         \u001b[0mdata\u001b[0m\u001b[1;33m[\u001b[0m\u001b[0mn\u001b[0m\u001b[1;33m]\u001b[0m \u001b[1;33m=\u001b[0m \u001b[0mtorch\u001b[0m\u001b[1;33m.\u001b[0m\u001b[0mtensor\u001b[0m\u001b[1;33m(\u001b[0m\u001b[0mcv2\u001b[0m\u001b[1;33m.\u001b[0m\u001b[0mimread\u001b[0m\u001b[1;33m(\u001b[0m\u001b[1;34mf\"Numbers/transformedNumbers/{folder}/{fileName}\"\u001b[0m\u001b[1;33m)\u001b[0m\u001b[1;33m[\u001b[0m\u001b[1;33m:\u001b[0m\u001b[1;33m,\u001b[0m\u001b[1;33m:\u001b[0m\u001b[1;33m,\u001b[0m\u001b[1;36m1\u001b[0m\u001b[1;33m]\u001b[0m\u001b[1;33m)\u001b[0m\u001b[1;33m\u001b[0m\u001b[1;33m\u001b[0m\u001b[0m\n\u001b[0m\u001b[0;32m     12\u001b[0m         \u001b[0mlabels\u001b[0m\u001b[1;33m[\u001b[0m\u001b[0mn\u001b[0m\u001b[1;33m,\u001b[0m \u001b[0mint\u001b[0m\u001b[1;33m(\u001b[0m\u001b[0mfolder\u001b[0m\u001b[1;33m)\u001b[0m\u001b[1;33m]\u001b[0m \u001b[1;33m=\u001b[0m \u001b[1;36m1\u001b[0m\u001b[1;33m\u001b[0m\u001b[1;33m\u001b[0m\u001b[0m\n\u001b[0;32m     13\u001b[0m         \u001b[0mn\u001b[0m\u001b[1;33m+=\u001b[0m\u001b[1;36m1\u001b[0m\u001b[1;33m\u001b[0m\u001b[1;33m\u001b[0m\u001b[0m\n",
      "\u001b[1;31mKeyboardInterrupt\u001b[0m: "
     ]
    }
   ],
   "source": [
    "# Only run the first time\n",
    "\n",
    "import torch\n",
    "import cv2\n",
    "import os\n",
    "\n",
    "data = torch.zeros(16*2160, 24, 24)\n",
    "labels = torch.zeros(16*2160, 10)\n",
    "\n",
    "n = 0\n",
    "for folder in os.listdir(\"Numbers/transformedNumbers\"):\n",
    "    for fileName in os.listdir(f\"Numbers/transformedNumbers/{folder}\"):\n",
    "        data[n] = torch.tensor(cv2.imread(f\"Numbers/transformedNumbers/{folder}/{fileName}\")[:,:,1])\n",
    "        labels[n, int(folder)] = 1 \n",
    "        n+=1\n",
    "\n",
    "torch.save(data, \"X.pt\")\n",
    "torch.save(labels, \"Y.pt\")"
   ]
  },
  {
   "cell_type": "code",
   "execution_count": 129,
   "id": "516203b9",
   "metadata": {},
   "outputs": [],
   "source": [
    "import torch\n",
    "import os\n",
    "import cv2\n",
    "import random\n",
    "import torch.nn.functional as F\n",
    "import matplotlib.pyplot as plt\n",
    "import numpy as np\n",
    "\n",
    "device = torch.device(\"cuda\")\n",
    "\n",
    "X = torch.load(\"X.pt\")\n",
    "y = torch.load(\"y.pt\")"
   ]
  },
  {
   "cell_type": "code",
   "execution_count": 130,
   "id": "fce3a418",
   "metadata": {},
   "outputs": [
    {
     "name": "stdout",
     "output_type": "stream",
     "text": [
      "torch.Size([32832, 1, 24, 24]) torch.Size([1728, 1, 24, 24])\n",
      "torch.Size([32832, 10]) torch.Size([1728, 10])\n"
     ]
    }
   ],
   "source": [
    "dim = 24\n",
    "\n",
    "split = int(0.95*X.shape[0]) \n",
    "allIndexes = torch.randperm(X.shape[0])\n",
    "trainIndexes = allIndexes[:split]\n",
    "testIndexes  = allIndexes[split:]\n",
    "\n",
    "X_train, X_test = X.view(-1, 1, dim, dim)[trainIndexes], X.view(-1, 1, dim, dim)[testIndexes]\n",
    "y_train, y_test = y[trainIndexes], y[testIndexes]\n",
    "print(X_train.shape, X_test.shape)\n",
    "print(y_train.shape, y_test.shape)\n",
    "X_train = X_train.to(device) \n",
    "X_test = X_test.to(device) \n",
    "y_train = y_train.to(device) \n",
    "y_test = y_test.to(device) \n"
   ]
  },
  {
   "cell_type": "code",
   "execution_count": 131,
   "id": "b66bac26",
   "metadata": {},
   "outputs": [
    {
     "name": "stdout",
     "output_type": "stream",
     "text": [
      "7859 tensor([0., 0., 0., 0., 0., 0., 1., 0., 0., 0.], device='cuda:0')\n"
     ]
    },
    {
     "data": {
      "image/png": "[encoded data removed]",
      "text/plain": [
       "<Figure size 432x288 with 1 Axes>"
      ]
     },
     "metadata": {
      "needs_background": "light"
     },
     "output_type": "display_data"
    }
   ],
   "source": [
    "n = random.randint(0, 10000)\n",
    "plt.imshow(X_train[n].view(dim, dim).cpu())\n",
    "print(n, y_train[n])"
   ]
  },
  {
   "cell_type": "code",
   "execution_count": 69,
   "id": "d81ff105",
   "metadata": {},
   "outputs": [
    {
     "ename": "FileNotFoundError",
     "evalue": "[Errno 2] No such file or directory: 'params.pkl'",
     "output_type": "error",
     "traceback": [
      "\u001b[1;31m---------------------------------------------------------------------------\u001b[0m",
      "\u001b[1;31mFileNotFoundError\u001b[0m                         Traceback (most recent call last)",
      "\u001b[1;32m~\\AppData\\Local\\Temp/ipykernel_5756/1318757188.py\u001b[0m in \u001b[0;36m<module>\u001b[1;34m\u001b[0m\n\u001b[0;32m      2\u001b[0m \u001b[1;33m\u001b[0m\u001b[0m\n\u001b[0;32m      3\u001b[0m \u001b[1;33m\u001b[0m\u001b[0m\n\u001b[1;32m----> 4\u001b[1;33m \u001b[1;32mwith\u001b[0m \u001b[0mopen\u001b[0m\u001b[1;33m(\u001b[0m\u001b[1;34m\"params.pkl\"\u001b[0m\u001b[1;33m,\u001b[0m \u001b[1;34m'rb'\u001b[0m\u001b[1;33m)\u001b[0m \u001b[1;32mas\u001b[0m \u001b[0mf\u001b[0m\u001b[1;33m:\u001b[0m\u001b[1;33m\u001b[0m\u001b[1;33m\u001b[0m\u001b[0m\n\u001b[0m\u001b[0;32m      5\u001b[0m     \u001b[0mparams\u001b[0m \u001b[1;33m=\u001b[0m \u001b[0mpickle\u001b[0m\u001b[1;33m.\u001b[0m\u001b[0mload\u001b[0m\u001b[1;33m(\u001b[0m\u001b[0mf\u001b[0m\u001b[1;33m)\u001b[0m\u001b[1;33m\u001b[0m\u001b[1;33m\u001b[0m\u001b[0m\n\u001b[0;32m      6\u001b[0m \u001b[0mprint\u001b[0m\u001b[1;33m(\u001b[0m\u001b[1;33m[\u001b[0m\u001b[0mp\u001b[0m\u001b[1;33m.\u001b[0m\u001b[0mshape\u001b[0m \u001b[1;32mfor\u001b[0m \u001b[0mp\u001b[0m \u001b[1;32min\u001b[0m \u001b[0mparams\u001b[0m\u001b[1;33m]\u001b[0m\u001b[1;33m)\u001b[0m\u001b[1;33m\u001b[0m\u001b[1;33m\u001b[0m\u001b[0m\n",
      "\u001b[1;31mFileNotFoundError\u001b[0m: [Errno 2] No such file or directory: 'params.pkl'"
     ]
    }
   ],
   "source": [
    "import pickle\n",
    "\n",
    "\n",
    "with open(\"params.pkl\", 'rb') as f:\n",
    "    params = pickle.load(f)\n",
    "print([p.shape for p in params])\n",
    "w1, b1, w2, b2, w3, b3, k1, k2, k3, w4, b4 = params\n",
    "\n"
   ]
  },
  {
   "cell_type": "code",
   "execution_count": 132,
   "id": "7bc2eec2",
   "metadata": {},
   "outputs": [
    {
     "name": "stdout",
     "output_type": "stream",
     "text": [
      "torch.Size([128, 150])\n",
      "torch.Size([150])\n",
      "torch.Size([150, 150])\n",
      "torch.Size([150])\n",
      "torch.Size([150, 150])\n",
      "torch.Size([150])\n",
      "torch.Size([32, 1, 3, 3])\n",
      "torch.Size([32, 32, 3, 3])\n",
      "torch.Size([8, 32, 3, 3])\n",
      "torch.Size([150, 10])\n",
      "torch.Size([10])\n"
     ]
    }
   ],
   "source": [
    "\n",
    "\n",
    "datasetSize = X_train.shape[0]\n",
    "off = 0.4\n",
    "\n",
    "if True:\n",
    "    layers = [150, 150, 150, 10]\n",
    "    k1 = torch.rand(32, 1, 3, 3).float().to(device) * off - off/2  #   Do not use padding -- 13x13\n",
    "    k2 = torch.rand(32, 32, 3, 3).float().to(device) * off - off/2  #  Do not use padding -- 11x11\n",
    "    k3 = torch.rand(8, 32, 3, 3).float().to(device) * off - off/2  #   Do not use padding -- 9x9\n",
    "    w1 = torch.rand(128, layers[0]).float().to(device) * off - off/2\n",
    "    b1 = torch.rand(layers[0]).float().to(device) * off - off/2\n",
    "    w2 = torch.rand(layers[0], layers[1]).float().to(device) * off - off/2\n",
    "    b2 = torch.rand(layers[1]).float().to(device) * off - off/2\n",
    "    w3 = torch.rand(layers[1], layers[2]).float().to(device) * off - off/2\n",
    "    b3 = torch.rand(layers[2]).float().to(device) * off - off/2\n",
    "    w4 = torch.rand(layers[2], layers[3]).float().to(device) * off - off/2\n",
    "    b4 = torch.rand(layers[3]).float().to(device) * off - off/2\n",
    "\n",
    "    params = [w1, b1, w2, b2, w3, b3, k1, k2, k3, w4, b4]\n",
    "\n",
    "\n",
    "for p in params:\n",
    "    print(p.shape)\n",
    "    p.requires_grad_()\n",
    "    \n",
    "lossi = []\n",
    "losstesti = []\n",
    "acctesti = []\n"
   ]
  },
  {
   "cell_type": "code",
   "execution_count": 133,
   "id": "7a5ec71f",
   "metadata": {},
   "outputs": [
    {
     "name": "stdout",
     "output_type": "stream",
     "text": [
      "tensor(0.6238, device='cuda:0', grad_fn=<DivBackward0>)\n",
      "tensor(0.4897, device='cuda:0', grad_fn=<DivBackward0>)\n",
      "tensor(0.3771, device='cuda:0', grad_fn=<DivBackward0>)\n",
      "tensor(0.2328, device='cuda:0', grad_fn=<DivBackward0>)\n",
      "tensor(0.1586, device='cuda:0', grad_fn=<DivBackward0>)\n",
      "tensor(0.1290, device='cuda:0', grad_fn=<DivBackward0>)\n",
      "tensor(0.1112, device='cuda:0', grad_fn=<DivBackward0>)\n",
      "tensor(0.1025, device='cuda:0', grad_fn=<DivBackward0>)\n",
      "tensor(0.0983, device='cuda:0', grad_fn=<DivBackward0>)\n",
      "tensor(0.1018, device='cuda:0', grad_fn=<DivBackward0>)\n",
      "Wall time: 4min 28s\n"
     ]
    }
   ],
   "source": [
    "%%time\n",
    "epochs = 10000\n",
    "batchsize = 1000\n",
    "lossf = torch.nn.MSELoss()\n",
    "\n",
    "def forward(data):\n",
    "    l = data.shape[0]\n",
    "    c1 = F.conv2d(data, k1)\n",
    "    c2 = F.conv2d(c1, k2)\n",
    "    p1 = F.max_pool2d(c2, (2, 2))\n",
    "    c3 = F.conv2d(p1, k3)\n",
    "    p2 = F.max_pool2d(c3, (2, 2))\n",
    "    n1 = torch.tanh(p2.view(l, -1) @ w1 + b1)\n",
    "    n2 = torch.tanh(n1 @ w2 + b2)\n",
    "    n3 = torch.tanh(n2 @ w3 + b3)\n",
    "    out = F.softmax(n3 @ w4 + b4, 1)\n",
    "    return out\n",
    "    \n",
    "\n",
    "for EPOCH in range(epochs):\n",
    "    indexes = (torch.rand(batchsize)*X_train.shape[0]).long()\n",
    "    \n",
    "    # Forward\n",
    "    out = forward(X_train[indexes])\n",
    "    \n",
    "    #print(out.shape)\n",
    "    loss = torch.sum((out - y_train[indexes])**2)/batchsize\n",
    "    loss.backward()\n",
    "    lossi.append(loss.item())\n",
    "    if EPOCH in [i for i in range(0, epochs, epochs//10)]: print(loss)\n",
    "\n",
    "    # Test\n",
    "    with torch.no_grad():\n",
    "        out = forward(X_test)\n",
    "        losstest = torch.sum((out - y_test)**2)/y_test.shape[0]\n",
    "        losstesti.append(losstest.item())\n",
    "        acctesti.append(torch.sum(out.argmax(1) == y_test.argmax(1)))\n",
    "        \n",
    "    # Backward\n",
    "    with torch.no_grad():\n",
    "        for p in params:\n",
    "            p -= p.grad*0.01\n",
    "            #p.grad *= 0.005\n",
    "            p.grad = None"
   ]
  },
  {
   "cell_type": "code",
   "execution_count": 134,
   "id": "77ecc9d3",
   "metadata": {
    "scrolled": true
   },
   "outputs": [
    {
     "data": {
      "text/plain": [
       "[<matplotlib.lines.Line2D at 0x19837d79d00>,\n",
       " <matplotlib.lines.Line2D at 0x19885bb99d0>]"
      ]
     },
     "execution_count": 134,
     "metadata": {},
     "output_type": "execute_result"
    },
    {
     "data": {
      "image/png": "[encoded data removed]",
      "text/plain": [
       "<Figure size 432x288 with 1 Axes>"
      ]
     },
     "metadata": {
      "needs_background": "light"
     },
     "output_type": "display_data"
    }
   ],
   "source": [
    "\n",
    "l = min(len(lossi), len(losstesti))\n",
    "r = [i for i in range(l)]\n",
    "plt.plot(r, torch.tensor(lossi[:l]), r, torch.tensor(losstesti[:l]))\n"
   ]
  },
  {
   "cell_type": "code",
   "execution_count": 135,
   "id": "e27521e6",
   "metadata": {},
   "outputs": [
    {
     "name": "stdout",
     "output_type": "stream",
     "text": [
      "tensor(0.9907, device='cuda:0')\n"
     ]
    },
    {
     "data": {
      "image/png": "[encoded data removed]",
      "text/plain": [
       "<Figure size 432x288 with 1 Axes>"
      ]
     },
     "metadata": {
      "needs_background": "light"
     },
     "output_type": "display_data"
    }
   ],
   "source": [
    "\n",
    "plt.plot(np.array(torch.tensor(acctesti))/X_test.shape[0])\n",
    "accuracy = acctesti[-1]/X_test.shape[0]\n",
    "print(accuracy)\n"
   ]
  },
  {
   "cell_type": "code",
   "execution_count": 74,
   "id": "ac5444ec",
   "metadata": {},
   "outputs": [],
   "source": [
    "import pickle\n",
    "\n",
    "with open(f\"./params{int(accuracy*100000)}.pkl\", 'wb') as f:\n",
    "    pickle.dump(params, f)"
   ]
  },
  {
   "cell_type": "code",
   "execution_count": null,
   "id": "b3cd7d0e",
   "metadata": {},
   "outputs": [],
   "source": []
  }
 ],
 "metadata": {
  "kernelspec": {
   "display_name": "Python 3 (ipykernel)",
   "language": "python",
   "name": "python3"
  },
  "language_info": {
   "codemirror_mode": {
    "name": "ipython",
    "version": 3
   },
   "file_extension": ".py",
   "mimetype": "text/x-python",
   "name": "python",
   "nbconvert_exporter": "python",
   "pygments_lexer": "ipython3",
   "version": "3.9.7"
  }
 },
 "nbformat": 4,
 "nbformat_minor": 5
}
